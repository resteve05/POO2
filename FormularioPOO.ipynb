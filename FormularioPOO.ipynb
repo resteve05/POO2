{
 "cells": [
  {
   "cell_type": "code",
   "execution_count": 4,
   "metadata": {},
   "outputs": [],
   "source": [
    "from tkinter import *\n",
    "from tkinter import ttk #Importar las librerías \n",
    "window = Tk()\n",
    "window.title(\"Nombres\") #Titulo a la ventana \n",
    "window.geometry('400x400') #Tamaño de la ventana\n",
    "window.configure(background = \"blue\"); #Color del fondo de la ventana \n",
    "a = Label(window ,text = \"Nombre:\").grid(row = 0,column = 0)\n",
    "b = Label(window ,text = \"Primer apellido:\").grid(row = 1,column = 0)\n",
    "c = Label(window ,text = \"Segundo apellido:\").grid(row = 2,column = 0)\n",
    "d = Label(window ,text = \"Teléfono\").grid(row = 3,column = 0)\n",
    "a1 = Entry(window).grid(row = 0,column = 1)\n",
    "b1 = Entry(window).grid(row = 1,column = 1)\n",
    "c1 = Entry(window).grid(row = 2,column = 1)\n",
    "d1 = Entry(window).grid(row = 3,column = 1)\n",
    "def clicked():\n",
    "   res = \"Bienvenido a \" + txt.get()\n",
    "   lbl.configure(text= res)\n",
    "btn = ttk.Button(window ,text=\"Enviar\").grid(row=4,column=0) #ttk enseña el botón en la ventana. \n",
    "# Text enseña el texto en la ventana y grid enseña en formato de grid \n",
    "window.mainloop() #Aparezca la ventana hasta que se cierre "
   ]
  }
 ],
 "metadata": {
  "kernelspec": {
   "display_name": "Python 3",
   "language": "python",
   "name": "python3"
  },
  "language_info": {
   "codemirror_mode": {
    "name": "ipython",
    "version": 3
   },
   "file_extension": ".py",
   "mimetype": "text/x-python",
   "name": "python",
   "nbconvert_exporter": "python",
   "pygments_lexer": "ipython3",
   "version": "3.8.2"
  }
 },
 "nbformat": 4,
 "nbformat_minor": 2
}
